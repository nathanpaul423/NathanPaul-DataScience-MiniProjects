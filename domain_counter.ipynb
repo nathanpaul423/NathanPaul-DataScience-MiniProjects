{
  "nbformat": 4,
  "nbformat_minor": 0,
  "metadata": {
    "colab": {
      "provenance": [],
      "authorship_tag": "ABX9TyMtWvgmwqQ8gyVTbpPlmKDU",
      "include_colab_link": true
    },
    "kernelspec": {
      "name": "python3",
      "display_name": "Python 3"
    },
    "language_info": {
      "name": "python"
    }
  },
  "cells": [
    {
      "cell_type": "markdown",
      "metadata": {
        "id": "view-in-github",
        "colab_type": "text"
      },
      "source": [
        "<a href=\"https://colab.research.google.com/github/nathanpaul423/NathanPaul-DataScience-Project/blob/main/domain_counter.ipynb\" target=\"_parent\"><img src=\"https://colab.research.google.com/assets/colab-badge.svg\" alt=\"Open In Colab\"/></a>"
      ]
    },
    {
      "cell_type": "code",
      "execution_count": 3,
      "metadata": {
        "id": "LFhZMgcOvARL"
      },
      "outputs": [],
      "source": [
        "#open the csv file\n",
        "\n",
        "\n",
        "def read_file(file):\n",
        "  with open(file, 'r') as f:\n",
        "    lines = [line.strip() for line in f.readlines()]\n",
        "  return lines # returns a list of the csv ['000,domain.com',...]"
      ]
    },
    {
      "cell_type": "code",
      "source": [
        "lines"
      ],
      "metadata": {
        "colab": {
          "base_uri": "https://localhost:8080/"
        },
        "id": "MqQmenCfvbvr",
        "outputId": "79612dec-1329-4ede-a131-341f1895f844"
      },
      "execution_count": 2,
      "outputs": [
        {
          "output_type": "execute_result",
          "data": {
            "text/plain": [
              "['715,google.com',\n",
              " '610,mail.instagram.com',\n",
              " '20,mobile.sports.instagram.com',\n",
              " '125,drama.instagram.com',\n",
              " '55,instagram.com',\n",
              " '90,stackoverflow.com',\n",
              " '70,en.twitter.org',\n",
              " '780,es.twitter.org',\n",
              " '800,opinion.youtube.net',\n",
              " '630,facebook.com',\n",
              " '25,free.facebook.com']"
            ]
          },
          "metadata": {},
          "execution_count": 2
        }
      ]
    },
    {
      "cell_type": "code",
      "source": [
        "#splits\n",
        "def domain_dict(file):\n",
        "\n",
        "  domain = [line.split(',') for line in read_file(file)]\n",
        "  domain_split = [x[1].split('.') for x in domain]\n",
        "\n",
        "  return domain_split"
      ],
      "metadata": {
        "id": "OlckOZ9apIkX"
      },
      "execution_count": 18,
      "outputs": []
    },
    {
      "cell_type": "code",
      "source": [
        "domain_dict('input.csv')"
      ],
      "metadata": {
        "colab": {
          "base_uri": "https://localhost:8080/"
        },
        "id": "cvxhIL_7pQxB",
        "outputId": "380491d0-a9b2-4d4e-9fb6-177a2131fefd"
      },
      "execution_count": 19,
      "outputs": [
        {
          "output_type": "execute_result",
          "data": {
            "text/plain": [
              "[['google', 'com'],\n",
              " ['mail', 'instagram', 'com'],\n",
              " ['mobile', 'sports', 'instagram', 'com'],\n",
              " ['drama', 'instagram', 'com'],\n",
              " ['instagram', 'com'],\n",
              " ['stackoverflow', 'com'],\n",
              " ['en', 'twitter', 'org'],\n",
              " ['es', 'twitter', 'org'],\n",
              " ['opinion', 'youtube', 'net'],\n",
              " ['facebook', 'com'],\n",
              " ['free', 'facebook', 'com']]"
            ]
          },
          "metadata": {},
          "execution_count": 19
        }
      ]
    },
    {
      "cell_type": "code",
      "source": [
        "#generates a dictionary of subdomains\n",
        "def generate_dict(lists):\n",
        "    result = []\n",
        "    for lst in lists:\n",
        "        for i, item in enumerate(reversed(lst)):\n",
        "            string = item\n",
        "            if i > 0:\n",
        "                string += '.' + result[-1]\n",
        "            result.append(string)\n",
        "\n",
        "    dict ={}\n",
        "    for n in result:\n",
        "      dict[n] = 0\n",
        "    return dict"
      ],
      "metadata": {
        "id": "5bWdAzjNuAHb"
      },
      "execution_count": 25,
      "outputs": []
    },
    {
      "cell_type": "code",
      "source": [
        "generate_dict(domain_dict('input.csv'))"
      ],
      "metadata": {
        "colab": {
          "base_uri": "https://localhost:8080/"
        },
        "id": "kTjgeLCyxkHa",
        "outputId": "8536afe8-a657-418f-aa9d-80c21921fdca"
      },
      "execution_count": 26,
      "outputs": [
        {
          "output_type": "execute_result",
          "data": {
            "text/plain": [
              "{'com': 0,\n",
              " 'google.com': 0,\n",
              " 'instagram.com': 0,\n",
              " 'mail.instagram.com': 0,\n",
              " 'sports.instagram.com': 0,\n",
              " 'mobile.sports.instagram.com': 0,\n",
              " 'drama.instagram.com': 0,\n",
              " 'stackoverflow.com': 0,\n",
              " 'org': 0,\n",
              " 'twitter.org': 0,\n",
              " 'en.twitter.org': 0,\n",
              " 'es.twitter.org': 0,\n",
              " 'net': 0,\n",
              " 'youtube.net': 0,\n",
              " 'opinion.youtube.net': 0,\n",
              " 'facebook.com': 0,\n",
              " 'free.facebook.com': 0}"
            ]
          },
          "metadata": {},
          "execution_count": 26
        }
      ]
    },
    {
      "cell_type": "code",
      "source": [
        "def counter(file):\n",
        "  split_domain = [line.split(',') for line in read_file(file)]\n",
        "  dict = generate_dict(domain_dict(file))\n",
        "\n",
        "  for value, key in split_domain:\n",
        "      for domain in generate_dict(domain_dict(file)):\n",
        "          if domain in key:\n",
        "              dict[domain] += int(value)\n",
        "  return dict"
      ],
      "metadata": {
        "id": "OVa7QPCEHxzW"
      },
      "execution_count": 43,
      "outputs": []
    },
    {
      "cell_type": "code",
      "source": [
        "counter('input.csv')"
      ],
      "metadata": {
        "colab": {
          "base_uri": "https://localhost:8080/"
        },
        "id": "c0J-lQIZy3kR",
        "outputId": "74ba3d0c-63ba-4c33-94b0-40210e45c125"
      },
      "execution_count": 44,
      "outputs": [
        {
          "output_type": "execute_result",
          "data": {
            "text/plain": [
              "{'com': 2270,\n",
              " 'google.com': 715,\n",
              " 'instagram.com': 810,\n",
              " 'mail.instagram.com': 610,\n",
              " 'sports.instagram.com': 20,\n",
              " 'mobile.sports.instagram.com': 20,\n",
              " 'drama.instagram.com': 125,\n",
              " 'stackoverflow.com': 90,\n",
              " 'org': 850,\n",
              " 'twitter.org': 850,\n",
              " 'en.twitter.org': 70,\n",
              " 'es.twitter.org': 780,\n",
              " 'net': 800,\n",
              " 'youtube.net': 800,\n",
              " 'opinion.youtube.net': 800,\n",
              " 'facebook.com': 655,\n",
              " 'free.facebook.com': 25}"
            ]
          },
          "metadata": {},
          "execution_count": 44
        }
      ]
    },
    {
      "cell_type": "code",
      "source": [
        "dict"
      ],
      "metadata": {
        "colab": {
          "base_uri": "https://localhost:8080/"
        },
        "id": "pmH-nO_MuZEZ",
        "outputId": "edf32fe6-7678-4857-a6bf-a38c2f96a873"
      },
      "execution_count": 9,
      "outputs": [
        {
          "output_type": "execute_result",
          "data": {
            "text/plain": [
              "{'com': 2270,\n",
              " 'google.com': 715,\n",
              " 'instagram.com': 810,\n",
              " 'mail.instagram.com': 610,\n",
              " 'sports.instagram.com': 20,\n",
              " 'mobile.sports.instagram.com': 20,\n",
              " 'drama.instagram.com': 125,\n",
              " 'stackoverflow.com': 90,\n",
              " 'org': 850,\n",
              " 'twitter.org': 850,\n",
              " 'en.twitter.org': 70,\n",
              " 'es.twitter.org': 780,\n",
              " 'net': 800,\n",
              " 'youtube.net': 800,\n",
              " 'opinion.youtube.net': 800,\n",
              " 'facebook.com': 655,\n",
              " 'free.facebook.com': 25}"
            ]
          },
          "metadata": {},
          "execution_count": 9
        }
      ]
    },
    {
      "cell_type": "code",
      "source": [
        "domain_list = []\n",
        "for x in domain:\n",
        "    a = x[1].split('.')\n",
        "    for b in reversed(list(a)):\n",
        "      domain_list.append()"
      ],
      "metadata": {
        "colab": {
          "base_uri": "https://localhost:8080/"
        },
        "id": "EYXIwmGsrrI3",
        "outputId": "abb46066-f2ec-44c0-b944-580ee744c263"
      },
      "execution_count": 62,
      "outputs": [
        {
          "output_type": "stream",
          "name": "stdout",
          "text": [
            "com\n",
            "google\n",
            "com\n",
            "instagram\n",
            "mail\n",
            "com\n",
            "instagram\n",
            "sports\n",
            "mobile\n",
            "com\n",
            "instagram\n",
            "drama\n",
            "com\n",
            "instagram\n",
            "com\n",
            "stackoverflow\n",
            "org\n",
            "twitter\n",
            "en\n",
            "org\n",
            "twitter\n",
            "es\n",
            "net\n",
            "youtube\n",
            "opinion\n",
            "com\n",
            "facebook\n",
            "com\n",
            "facebook\n",
            "free\n"
          ]
        }
      ]
    },
    {
      "cell_type": "code",
      "source": [
        "domain_list ={}\n",
        "for x in domain:\n",
        "    a = x[1].split('.')\n",
        "    for b in list(reversed(a)):\n",
        "      sub_dom = '.' + b\n",
        "      domain_list[sub_dom] = 0\n",
        "domain_list"
      ],
      "metadata": {
        "colab": {
          "base_uri": "https://localhost:8080/"
        },
        "id": "0fcU-mgkpPl4",
        "outputId": "d6203192-b0fe-44fb-8835-14e0b84ba5f0"
      },
      "execution_count": 59,
      "outputs": [
        {
          "output_type": "execute_result",
          "data": {
            "text/plain": [
              "{'.com': 0,\n",
              " '.google': 0,\n",
              " '.instagram': 0,\n",
              " '.mail': 0,\n",
              " '.sports': 0,\n",
              " '.mobile': 0,\n",
              " '.drama': 0,\n",
              " '.stackoverflow': 0,\n",
              " '.org': 0,\n",
              " '.twitter': 0,\n",
              " '.en': 0,\n",
              " '.es': 0,\n",
              " '.net': 0,\n",
              " '.youtube': 0,\n",
              " '.opinion': 0,\n",
              " '.facebook': 0,\n",
              " '.free': 0}"
            ]
          },
          "metadata": {},
          "execution_count": 59
        }
      ]
    },
    {
      "cell_type": "code",
      "source": [
        "\n",
        "domain_list ={}\n",
        "domain = []\n",
        "\n",
        "for i,line in enumerate(lines):\n",
        "  domain.append(line.split(','))\n",
        "  for x in domain:\n",
        "    a = x[1].split('.')\n",
        "    for b in a:\n",
        "      domain_list[b] = 0\n",
        "\n",
        "domain_list\n",
        "\n",
        "\n",
        "\n",
        "    # x = domain[i][1].split('.')[1]\n",
        "    # y = domain[i][0].split('.')[1]\n",
        "    # subdom = \".\" + x\n",
        "\n",
        "\n",
        "\n",
        "# domain_list[subdom] +=\n",
        "\n",
        "\n",
        "\n",
        "\n"
      ],
      "metadata": {
        "colab": {
          "base_uri": "https://localhost:8080/"
        },
        "id": "oCsaAF-KveoZ",
        "outputId": "bdae0cbf-3a89-4916-fb6c-af452aace3ff"
      },
      "execution_count": 47,
      "outputs": [
        {
          "output_type": "execute_result",
          "data": {
            "text/plain": [
              "{'google': 0,\n",
              " 'com': 0,\n",
              " 'mail': 0,\n",
              " 'instagram': 0,\n",
              " 'mobile': 0,\n",
              " 'sports': 0,\n",
              " 'drama': 0,\n",
              " 'stackoverflow': 0,\n",
              " 'en': 0,\n",
              " 'twitter': 0,\n",
              " 'org': 0,\n",
              " 'es': 0,\n",
              " 'opinion': 0,\n",
              " 'youtube': 0,\n",
              " 'net': 0,\n",
              " 'facebook': 0,\n",
              " 'free': 0}"
            ]
          },
          "metadata": {},
          "execution_count": 47
        }
      ]
    },
    {
      "cell_type": "code",
      "source": [
        "domain"
      ],
      "metadata": {
        "colab": {
          "base_uri": "https://localhost:8080/"
        },
        "id": "-LY0IAGmYo-V",
        "outputId": "b440e7a9-150e-46bc-da54-e2dc9127bf56"
      },
      "execution_count": 32,
      "outputs": [
        {
          "output_type": "execute_result",
          "data": {
            "text/plain": [
              "[['715', 'google.com'],\n",
              " ['610', 'mail.instagram.com'],\n",
              " ['20', 'mobile.sports.instagram.com'],\n",
              " ['125', 'drama.instagram.com'],\n",
              " ['55', 'instagram.com'],\n",
              " ['90', 'stackoverflow.com'],\n",
              " ['70', 'en.twitter.org'],\n",
              " ['780', 'es.twitter.org'],\n",
              " ['800', 'opinion.youtube.net'],\n",
              " ['630', 'facebook.com'],\n",
              " ['25', 'free.facebook.com']]"
            ]
          },
          "metadata": {},
          "execution_count": 32
        }
      ]
    },
    {
      "cell_type": "code",
      "source": [
        "for i in lines:\n",
        "  i.split(',')"
      ],
      "metadata": {
        "id": "1MBt3kOV_T5x"
      },
      "execution_count": null,
      "outputs": []
    },
    {
      "cell_type": "code",
      "source": [
        "def word_search_using_in(word, text):\n",
        "    return word in text\n",
        "\n",
        "text = \"715,google.com\"\n",
        "word = \".com\"\n",
        "word_search_using_in(word, text)"
      ],
      "metadata": {
        "colab": {
          "base_uri": "https://localhost:8080/"
        },
        "id": "oGiBrz3rwrB8",
        "outputId": "d82daec4-ec42-4d66-f501-5625dbab421c"
      },
      "execution_count": 13,
      "outputs": [
        {
          "output_type": "execute_result",
          "data": {
            "text/plain": [
              "True"
            ]
          },
          "metadata": {},
          "execution_count": 13
        }
      ]
    }
  ]
}