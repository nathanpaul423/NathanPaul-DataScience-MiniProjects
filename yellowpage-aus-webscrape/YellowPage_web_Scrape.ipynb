{
  "nbformat": 4,
  "nbformat_minor": 0,
  "metadata": {
    "colab": {
      "provenance": [],
      "toc_visible": true
    },
    "kernelspec": {
      "name": "python3",
      "display_name": "Python 3"
    },
    "language_info": {
      "name": "python"
    }
  },
  "cells": [
    {
      "cell_type": "code",
      "execution_count": null,
      "metadata": {
        "id": "55FkDOzPSKvW"
      },
      "outputs": [],
      "source": [
        "from bs4 import BeautifulSoup\n",
        "import requests\n",
        "import re\n",
        "import math \n",
        "import pandas as pd"
      ]
    },
    {
      "cell_type": "code",
      "source": [
        "#australia state codes use for the url\n",
        "aus_state = ['NSW','NT','Qld','SA','Tas','Vic','WA']\n",
        "\n",
        "#headers \n",
        "headers_user = {\n",
        "    'User-Agent':'Mozilla/5.0 (Windows NT 10.0; Win64; x64) AppleWebKit/537.36 (KHTML, like Gecko) Chrome/106.0.0.0 Safari/537.36'\n",
        "}"
      ],
      "metadata": {
        "id": "nVN7DrzABVaS"
      },
      "execution_count": null,
      "outputs": []
    },
    {
      "cell_type": "code",
      "source": [
        "#listing the categories\n",
        "def remove3rdslash():\n",
        "  url = 'https://www.yellowpages.com.au/'\n",
        "  site = requests.get(url,headers=headers_user)\n",
        "  soup = BeautifulSoup(site.content, 'html.parser')\n",
        "  list = soup.find_all('div',class_='rsTmb icon-container')\n",
        "\n",
        "  #listing index of the 3rd \"/\"\n",
        "  inx = []\n",
        "  for i in list:\n",
        "    inx.append(i.a['href'].index('/',6))\n",
        "  \n",
        "  #listing the href's\n",
        "  href = []\n",
        "  for i in list:\n",
        "     href.append(i.a['href'])\n",
        "  \n",
        "  #modified href: removing the strings after the 3rd \"/\"\n",
        "  href_mod=[]\n",
        "  for i,k in zip(href,inx):\n",
        "    href_mod.append(i[1:k+1])\n",
        "\n",
        "  #returns a list of categories to be used in url's\n",
        "  return href_mod\n",
        "    "
      ],
      "metadata": {
        "id": "L35Hi7X1Y0uz"
      },
      "execution_count": null,
      "outputs": []
    },
    {
      "cell_type": "code",
      "source": [
        "#listed categories\n",
        "href_mod = remove3rdslash()\n",
        "href_mod"
      ],
      "metadata": {
        "id": "c2rsYkPNnjiL",
        "colab": {
          "base_uri": "https://localhost:8080/"
        },
        "outputId": "d9b5b9ab-7037-42e2-d635-05a7535549bd"
      },
      "execution_count": null,
      "outputs": [
        {
          "output_type": "execute_result",
          "data": {
            "text/plain": [
              "['find/lawyers-solicitors/',\n",
              " 'find/dentists/',\n",
              " 'find/restaurants/',\n",
              " 'find/plumbers-gas-fitters/',\n",
              " 'find/electricians-electrical-contractors/',\n",
              " 'find/mechanics-motor-engineers/',\n",
              " 'find/hairdressers/',\n",
              " 'find/builders-building-contractors/',\n",
              " 'find/accountants-auditors/',\n",
              " 'find/beauty-salons/',\n",
              " 'find/vets-veterinary-surgeons/',\n",
              " 'find/doctors-medical-practitioners/']"
            ]
          },
          "metadata": {},
          "execution_count": 5
        }
      ]
    },
    {
      "cell_type": "code",
      "source": [
        "#adding the states on href_mod\n",
        "href = []\n",
        "for i in href_mod:\n",
        "  for k in aus_state:\n",
        "    href.append(f'{i}{k}')\n",
        "\n",
        "href[0:3] # 3 example"
      ],
      "metadata": {
        "id": "UEDmHWIWn0rD",
        "colab": {
          "base_uri": "https://localhost:8080/"
        },
        "outputId": "ddd0740e-1c4a-4457-c4c4-2f8bc7427a55"
      },
      "execution_count": null,
      "outputs": [
        {
          "output_type": "execute_result",
          "data": {
            "text/plain": [
              "['find/lawyers-solicitors/NSW',\n",
              " 'find/lawyers-solicitors/NT',\n",
              " 'find/lawyers-solicitors/Qld']"
            ]
          },
          "metadata": {},
          "execution_count": 7
        }
      ]
    },
    {
      "cell_type": "code",
      "source": [
        "#reconstruct the website address \n",
        "def urlReconstruct():\n",
        "  primary_url = 'https://www.yellowpages.com.au/'\n",
        "  href_mod2=[]\n",
        "  for i in href:\n",
        "    href_mod2.append(f'{primary_url}{i}')\n",
        "  return href_mod2"
      ],
      "metadata": {
        "id": "Reh369q8o8Nh"
      },
      "execution_count": null,
      "outputs": []
    },
    {
      "cell_type": "code",
      "source": [
        "href_mod2 = urlReconstruct()\n",
        "\n",
        "href_mod2[0:3] # 3 example"
      ],
      "metadata": {
        "id": "U9qOVPPk8FlT",
        "colab": {
          "base_uri": "https://localhost:8080/"
        },
        "outputId": "b49750cd-241b-4b12-ab6f-559c82fc2ebd"
      },
      "execution_count": null,
      "outputs": [
        {
          "output_type": "execute_result",
          "data": {
            "text/plain": [
              "['https://www.yellowpages.com.au/find/lawyers-solicitors/NSW',\n",
              " 'https://www.yellowpages.com.au/find/lawyers-solicitors/NT',\n",
              " 'https://www.yellowpages.com.au/find/lawyers-solicitors/Qld']"
            ]
          },
          "metadata": {},
          "execution_count": 10
        }
      ]
    },
    {
      "cell_type": "code",
      "source": [
        "#check status to be honest not needed you can directly use the '.status_code' directly to reduce time\n",
        "def status(url):\n",
        "  site = requests.get(url,headers=headers_user)\n",
        "  return site.status_code"
      ],
      "metadata": {
        "id": "Wv4ooZQWqQDc"
      },
      "execution_count": null,
      "outputs": []
    },
    {
      "cell_type": "code",
      "source": [
        "#find how many pages in a search\n",
        "def pageFinder(url):\n",
        "  site = requests.get(url,headers=headers_user)\n",
        "  soup = BeautifulSoup(site.content, 'html.parser')\n",
        "  string_page = soup.find('h2',class_='MuiTypography-root jss265 MuiTypography-body2 MuiTypography-paragraph')\n",
        "  \n",
        "  x = string_page.text\n",
        "  num = x.index(' ')\n",
        "  pages = math.ceil(int(x[:num])/35)\n",
        "\n",
        "  if pages > 29:\n",
        "    pages = 29\n",
        "  else:\n",
        "    pages \n",
        "\n",
        "  return pages"
      ],
      "metadata": {
        "id": "Rlo7Xjg9odHF"
      },
      "execution_count": null,
      "outputs": []
    },
    {
      "cell_type": "code",
      "source": [
        "#total entries\n",
        "\n",
        "entries = []\n",
        "#list the pages of each url\n",
        "for i in href_mod2:\n",
        "  entries.append(pageFinder(i))\n",
        "\n",
        "for i in range(0,len(entries)):\n",
        "  #for every page there are 35 entries shown in the webpage\n",
        "  entries[i] = entries[i] * 35\n",
        "\n",
        "sum(entries)"
      ],
      "metadata": {
        "colab": {
          "base_uri": "https://localhost:8080/"
        },
        "id": "-2RoedTX-WV4",
        "outputId": "09b82ecd-fde7-4af8-a813-e11ff1de7995"
      },
      "execution_count": null,
      "outputs": [
        {
          "output_type": "execute_result",
          "data": {
            "text/plain": [
              "63140"
            ]
          },
          "metadata": {},
          "execution_count": 14
        }
      ]
    },
    {
      "cell_type": "code",
      "source": [
        "#find empty pages\n",
        "def findemptypage(url):\n",
        "  empty=[]\n",
        "\n",
        "  for i in url:\n",
        "    site = requests.get(i,headers={'User-Agent':'Mozilla/5.0 (Windows NT 10.0; Win64; x64) AppleWebKit/537.36 (KHTML, like Gecko) Chrome/106.0.0.0 Safari/537.36'})\n",
        "    soup = BeautifulSoup(site.content, 'html.parser')\n",
        "    string_page = soup.find('h2',class_='MuiTypography-root jss265 MuiTypography-body2 MuiTypography-paragraph')\n",
        "\n",
        "    if string_page is None:\n",
        "      empty.append(i)\n",
        "  \n",
        "  return empty"
      ],
      "metadata": {
        "id": "sUmE1ZsPVHcK"
      },
      "execution_count": null,
      "outputs": []
    },
    {
      "cell_type": "code",
      "source": [
        "empty = findemptypage(href_mod2)"
      ],
      "metadata": {
        "id": "MlYjgGieY093"
      },
      "execution_count": 16,
      "outputs": []
    },
    {
      "cell_type": "code",
      "source": [
        "empty"
      ],
      "metadata": {
        "colab": {
          "base_uri": "https://localhost:8080/"
        },
        "id": "7-u-bw5qcBpm",
        "outputId": "ce4aaa88-a554-463a-cb46-736ffb5aa486"
      },
      "execution_count": 17,
      "outputs": [
        {
          "output_type": "execute_result",
          "data": {
            "text/plain": [
              "[]"
            ]
          },
          "metadata": {},
          "execution_count": 17
        }
      ]
    },
    {
      "cell_type": "code",
      "source": [
        "def scrape(url):\n",
        "  yellowpage = {'office_name':[],'category':[],'address':[], 'general_loc':[],'telephone_num':[], 'website':[]}\n",
        "  \n",
        "\n",
        "  #loop thru all states\n",
        "  for i in url:\n",
        "\n",
        "      #loop thru pages \n",
        "\n",
        "\n",
        "      for j in range(1,pageFinder(i)):\n",
        "\n",
        "        link = f'{i}/page-{j}'\n",
        "        site = requests.get(link,headers=headers_user)\n",
        "        soup = BeautifulSoup(site.content, 'html.parser')\n",
        "\n",
        "        #check status of website \n",
        "        if site.status_code == 200:\n",
        "          \n",
        "          scrape = soup.find_all('div',class_='Box__Div-sc-dws99b-0 iOfhmk MuiPaper-root MuiCard-root MuiPaper-elevation1 MuiPaper-rounded')\n",
        "\n",
        "          for k in range(len(scrape)):\n",
        "            \n",
        "            #office Name\n",
        "            if scrape[k].h3 is not None:\n",
        "              yellowpage['office_name'].append(scrape[k].h3.text)\n",
        "            else:\n",
        "              yellowpage['office_name'].append('0')\n",
        "\n",
        "            #address\n",
        "            if scrape[k].find('div',class_='Box__Div-sc-dws99b-0 bvRSwt') is not None:\n",
        "              yellowpage['address'].append(scrape[k].find('div',class_='Box__Div-sc-dws99b-0 bvRSwt').text)\n",
        "            else:\n",
        "              yellowpage['address'].append('0')\n",
        "            \n",
        "            #General Location and Category\n",
        "            if scrape[k].find('p') is not None:\n",
        "              loc = scrape[k].find('p').text\n",
        "              x = loc.index(',')\n",
        "              loc = loc[x+2:]\n",
        "              yellowpage['general_loc'].append(loc) \n",
        "              \n",
        "              category = scrape[k].find('p').text\n",
        "              x = category.index(',')\n",
        "              category = category[:x-1]\n",
        "              yellowpage['category'].append(category)\n",
        "\n",
        "            else:\n",
        "              yellowpage['general_loc'].append('0')\n",
        "              yellowpage['category'].append('0')\n",
        "\n",
        "            #telephone number\n",
        "            if scrape[k].find('button', class_='MuiButtonBase-root MuiButton-root MuiButton-text MuiButton-textPrimary MuiButton-fullWidth') is not None:\n",
        "              yellowpage['telephone_num'].append(scrape[k].find('button', class_='MuiButtonBase-root MuiButton-root MuiButton-text MuiButton-textPrimary MuiButton-fullWidth').text)\n",
        "            else:\n",
        "              yellowpage['telephone_num'].append('0')\n",
        "            \n",
        "            #website url\n",
        "            if scrape[k].find('a',class_='MuiButtonBase-root MuiButton-root MuiButton-text MuiButton-textSecondary MuiButton-fullWidth') is not None:\n",
        "              yellowpage['website'].append(scrape[k].find('a',class_='MuiButtonBase-root MuiButton-root MuiButton-text MuiButton-textSecondary MuiButton-fullWidth').get('href'))\n",
        "            else:\n",
        "              yellowpage['website'].append('0')\n",
        "          \n",
        "            \n",
        "  return yellowpage\n"
      ],
      "metadata": {
        "id": "vcuekp72L5l-"
      },
      "execution_count": 18,
      "outputs": []
    },
    {
      "cell_type": "markdown",
      "source": [
        "# DATA FRAME TO SQL DATABASE\n"
      ],
      "metadata": {
        "id": "RO-SBUDBES94"
      }
    },
    {
      "cell_type": "code",
      "source": [
        "urls = [href_mod2[1],href_mod2[2],href_mod2[67]] #sample url to scrape"
      ],
      "metadata": {
        "id": "dfBtTz8vpBmu"
      },
      "execution_count": 19,
      "outputs": []
    },
    {
      "cell_type": "code",
      "source": [
        "dataframe = pd.DataFrame(scrape(urls))"
      ],
      "metadata": {
        "id": "q_06PPPyUn2N"
      },
      "execution_count": 20,
      "outputs": []
    },
    {
      "cell_type": "code",
      "source": [
        "dataframe"
      ],
      "metadata": {
        "colab": {
          "base_uri": "https://localhost:8080/",
          "height": 424
        },
        "id": "ajUk7e1qjdna",
        "outputId": "bbe0f1c5-47ee-4d72-9cff-5f2928ae77f2"
      },
      "execution_count": 21,
      "outputs": [
        {
          "output_type": "execute_result",
          "data": {
            "text/plain": [
              "                                        office_name             category  \\\n",
              "0                    Maleys Barristers & Solicitors  Lawyers & Solicitor   \n",
              "1                         Maurice Blackburn Lawyers  Lawyers & Solicitor   \n",
              "2                                   De Silva Hebron  Lawyers & Solicitor   \n",
              "3                                 Darwin Family Law  Lawyers & Solicitor   \n",
              "4     Murphy & Associates Barristers and Solicitors  Lawyers & Solicitor   \n",
              "...                                             ...                  ...   \n",
              "1283                   Kameleon Hair & Beauty Salon          Hairdresser   \n",
              "1284                 Boutique Hair & Beauty by Toni          Hairdresser   \n",
              "1285                Compliments Hair & Beauty Salon          Hairdresser   \n",
              "1286                          Pandora Hair & Beauty          Hairdresser   \n",
              "1287                Lane Ridges Hair, Beauty & Body          Hairdresser   \n",
              "\n",
              "                                                address  \\\n",
              "0                 17 Cavenagh St, Darwin, NT, 0800|482m   \n",
              "1            Level 1 60 Smith St, Darwin, NT, 0800|260m   \n",
              "2                  47 Knuckey St, Darwin, NT, 0800|346m   \n",
              "3         Level 3/ 9 Cavenagh St, Darwin, NT, 0800|537m   \n",
              "4      25 Flockhart Dr, Marlow Lagoon, NT, 0830|14.04km   \n",
              "...                                                 ...   \n",
              "1283  Shop 2- 118 Hobart Rd, Kings Meadows, TAS, 724...   \n",
              "1284                                                  0   \n",
              "1285            141 Bligh St, Warrane, TAS, 7018|5.44km   \n",
              "1286         22 John St, Ulverstone, TAS, 7315|213.65km   \n",
              "1287  Northgate Shopng Cntr, Glenorchy, TAS, 7010|7....   \n",
              "\n",
              "                  general_loc   telephone_num  \\\n",
              "0             Darwin, NT 0800  (08) 8981 2266   \n",
              "1        Darwin City, NT 0800    1800 703 861   \n",
              "2             Darwin, NT 0800  (08) 8924 4944   \n",
              "3        Darwin City, NT 0800  (08) 8946 1666   \n",
              "4      Marlow Lagoon, NT 0830  (08) 8932 2062   \n",
              "...                       ...             ...   \n",
              "1283  Kings Meadows, TAS 7249  (03) 6344 9777   \n",
              "1284       Westbury, TAS 7303  (03) 6393 2223   \n",
              "1285        Warrane, TAS 7018  (03) 6244 5763   \n",
              "1286     Ulverstone, TAS 7315  (03) 6425 1573   \n",
              "1287      Glenorchy, TAS 7010  (03) 6272 4911   \n",
              "\n",
              "                                                website  \n",
              "0                            http://www.maleyslegal.com  \n",
              "1                   https://www.mauriceblackburn.com.au  \n",
              "2                         http://www.desilva-hebron.com  \n",
              "3                     http://www.darwinfamilylaw.com.au  \n",
              "4     https://www.facebook.com/Murphy-Associates-Bar...  \n",
              "...                                                 ...  \n",
              "1283                                                  0  \n",
              "1284                                                  0  \n",
              "1285                                                  0  \n",
              "1286                                                  0  \n",
              "1287                                                  0  \n",
              "\n",
              "[1288 rows x 6 columns]"
            ],
            "text/html": [
              "\n",
              "  <div id=\"df-df549661-d920-411a-a119-a8d50b3a3216\">\n",
              "    <div class=\"colab-df-container\">\n",
              "      <div>\n",
              "<style scoped>\n",
              "    .dataframe tbody tr th:only-of-type {\n",
              "        vertical-align: middle;\n",
              "    }\n",
              "\n",
              "    .dataframe tbody tr th {\n",
              "        vertical-align: top;\n",
              "    }\n",
              "\n",
              "    .dataframe thead th {\n",
              "        text-align: right;\n",
              "    }\n",
              "</style>\n",
              "<table border=\"1\" class=\"dataframe\">\n",
              "  <thead>\n",
              "    <tr style=\"text-align: right;\">\n",
              "      <th></th>\n",
              "      <th>office_name</th>\n",
              "      <th>category</th>\n",
              "      <th>address</th>\n",
              "      <th>general_loc</th>\n",
              "      <th>telephone_num</th>\n",
              "      <th>website</th>\n",
              "    </tr>\n",
              "  </thead>\n",
              "  <tbody>\n",
              "    <tr>\n",
              "      <th>0</th>\n",
              "      <td>Maleys Barristers &amp; Solicitors</td>\n",
              "      <td>Lawyers &amp; Solicitor</td>\n",
              "      <td>17 Cavenagh St, Darwin, NT, 0800|482m</td>\n",
              "      <td>Darwin, NT 0800</td>\n",
              "      <td>(08) 8981 2266</td>\n",
              "      <td>http://www.maleyslegal.com</td>\n",
              "    </tr>\n",
              "    <tr>\n",
              "      <th>1</th>\n",
              "      <td>Maurice Blackburn Lawyers</td>\n",
              "      <td>Lawyers &amp; Solicitor</td>\n",
              "      <td>Level 1 60 Smith St, Darwin, NT, 0800|260m</td>\n",
              "      <td>Darwin City, NT 0800</td>\n",
              "      <td>1800 703 861</td>\n",
              "      <td>https://www.mauriceblackburn.com.au</td>\n",
              "    </tr>\n",
              "    <tr>\n",
              "      <th>2</th>\n",
              "      <td>De Silva Hebron</td>\n",
              "      <td>Lawyers &amp; Solicitor</td>\n",
              "      <td>47 Knuckey St, Darwin, NT, 0800|346m</td>\n",
              "      <td>Darwin, NT 0800</td>\n",
              "      <td>(08) 8924 4944</td>\n",
              "      <td>http://www.desilva-hebron.com</td>\n",
              "    </tr>\n",
              "    <tr>\n",
              "      <th>3</th>\n",
              "      <td>Darwin Family Law</td>\n",
              "      <td>Lawyers &amp; Solicitor</td>\n",
              "      <td>Level 3/ 9 Cavenagh St, Darwin, NT, 0800|537m</td>\n",
              "      <td>Darwin City, NT 0800</td>\n",
              "      <td>(08) 8946 1666</td>\n",
              "      <td>http://www.darwinfamilylaw.com.au</td>\n",
              "    </tr>\n",
              "    <tr>\n",
              "      <th>4</th>\n",
              "      <td>Murphy &amp; Associates Barristers and Solicitors</td>\n",
              "      <td>Lawyers &amp; Solicitor</td>\n",
              "      <td>25 Flockhart Dr, Marlow Lagoon, NT, 0830|14.04km</td>\n",
              "      <td>Marlow Lagoon, NT 0830</td>\n",
              "      <td>(08) 8932 2062</td>\n",
              "      <td>https://www.facebook.com/Murphy-Associates-Bar...</td>\n",
              "    </tr>\n",
              "    <tr>\n",
              "      <th>...</th>\n",
              "      <td>...</td>\n",
              "      <td>...</td>\n",
              "      <td>...</td>\n",
              "      <td>...</td>\n",
              "      <td>...</td>\n",
              "      <td>...</td>\n",
              "    </tr>\n",
              "    <tr>\n",
              "      <th>1283</th>\n",
              "      <td>Kameleon Hair &amp; Beauty Salon</td>\n",
              "      <td>Hairdresser</td>\n",
              "      <td>Shop 2- 118 Hobart Rd, Kings Meadows, TAS, 724...</td>\n",
              "      <td>Kings Meadows, TAS 7249</td>\n",
              "      <td>(03) 6344 9777</td>\n",
              "      <td>0</td>\n",
              "    </tr>\n",
              "    <tr>\n",
              "      <th>1284</th>\n",
              "      <td>Boutique Hair &amp; Beauty by Toni</td>\n",
              "      <td>Hairdresser</td>\n",
              "      <td>0</td>\n",
              "      <td>Westbury, TAS 7303</td>\n",
              "      <td>(03) 6393 2223</td>\n",
              "      <td>0</td>\n",
              "    </tr>\n",
              "    <tr>\n",
              "      <th>1285</th>\n",
              "      <td>Compliments Hair &amp; Beauty Salon</td>\n",
              "      <td>Hairdresser</td>\n",
              "      <td>141 Bligh St, Warrane, TAS, 7018|5.44km</td>\n",
              "      <td>Warrane, TAS 7018</td>\n",
              "      <td>(03) 6244 5763</td>\n",
              "      <td>0</td>\n",
              "    </tr>\n",
              "    <tr>\n",
              "      <th>1286</th>\n",
              "      <td>Pandora Hair &amp; Beauty</td>\n",
              "      <td>Hairdresser</td>\n",
              "      <td>22 John St, Ulverstone, TAS, 7315|213.65km</td>\n",
              "      <td>Ulverstone, TAS 7315</td>\n",
              "      <td>(03) 6425 1573</td>\n",
              "      <td>0</td>\n",
              "    </tr>\n",
              "    <tr>\n",
              "      <th>1287</th>\n",
              "      <td>Lane Ridges Hair, Beauty &amp; Body</td>\n",
              "      <td>Hairdresser</td>\n",
              "      <td>Northgate Shopng Cntr, Glenorchy, TAS, 7010|7....</td>\n",
              "      <td>Glenorchy, TAS 7010</td>\n",
              "      <td>(03) 6272 4911</td>\n",
              "      <td>0</td>\n",
              "    </tr>\n",
              "  </tbody>\n",
              "</table>\n",
              "<p>1288 rows × 6 columns</p>\n",
              "</div>\n",
              "      <button class=\"colab-df-convert\" onclick=\"convertToInteractive('df-df549661-d920-411a-a119-a8d50b3a3216')\"\n",
              "              title=\"Convert this dataframe to an interactive table.\"\n",
              "              style=\"display:none;\">\n",
              "        \n",
              "  <svg xmlns=\"http://www.w3.org/2000/svg\" height=\"24px\"viewBox=\"0 0 24 24\"\n",
              "       width=\"24px\">\n",
              "    <path d=\"M0 0h24v24H0V0z\" fill=\"none\"/>\n",
              "    <path d=\"M18.56 5.44l.94 2.06.94-2.06 2.06-.94-2.06-.94-.94-2.06-.94 2.06-2.06.94zm-11 1L8.5 8.5l.94-2.06 2.06-.94-2.06-.94L8.5 2.5l-.94 2.06-2.06.94zm10 10l.94 2.06.94-2.06 2.06-.94-2.06-.94-.94-2.06-.94 2.06-2.06.94z\"/><path d=\"M17.41 7.96l-1.37-1.37c-.4-.4-.92-.59-1.43-.59-.52 0-1.04.2-1.43.59L10.3 9.45l-7.72 7.72c-.78.78-.78 2.05 0 2.83L4 21.41c.39.39.9.59 1.41.59.51 0 1.02-.2 1.41-.59l7.78-7.78 2.81-2.81c.8-.78.8-2.07 0-2.86zM5.41 20L4 18.59l7.72-7.72 1.47 1.35L5.41 20z\"/>\n",
              "  </svg>\n",
              "      </button>\n",
              "      \n",
              "  <style>\n",
              "    .colab-df-container {\n",
              "      display:flex;\n",
              "      flex-wrap:wrap;\n",
              "      gap: 12px;\n",
              "    }\n",
              "\n",
              "    .colab-df-convert {\n",
              "      background-color: #E8F0FE;\n",
              "      border: none;\n",
              "      border-radius: 50%;\n",
              "      cursor: pointer;\n",
              "      display: none;\n",
              "      fill: #1967D2;\n",
              "      height: 32px;\n",
              "      padding: 0 0 0 0;\n",
              "      width: 32px;\n",
              "    }\n",
              "\n",
              "    .colab-df-convert:hover {\n",
              "      background-color: #E2EBFA;\n",
              "      box-shadow: 0px 1px 2px rgba(60, 64, 67, 0.3), 0px 1px 3px 1px rgba(60, 64, 67, 0.15);\n",
              "      fill: #174EA6;\n",
              "    }\n",
              "\n",
              "    [theme=dark] .colab-df-convert {\n",
              "      background-color: #3B4455;\n",
              "      fill: #D2E3FC;\n",
              "    }\n",
              "\n",
              "    [theme=dark] .colab-df-convert:hover {\n",
              "      background-color: #434B5C;\n",
              "      box-shadow: 0px 1px 3px 1px rgba(0, 0, 0, 0.15);\n",
              "      filter: drop-shadow(0px 1px 2px rgba(0, 0, 0, 0.3));\n",
              "      fill: #FFFFFF;\n",
              "    }\n",
              "  </style>\n",
              "\n",
              "      <script>\n",
              "        const buttonEl =\n",
              "          document.querySelector('#df-df549661-d920-411a-a119-a8d50b3a3216 button.colab-df-convert');\n",
              "        buttonEl.style.display =\n",
              "          google.colab.kernel.accessAllowed ? 'block' : 'none';\n",
              "\n",
              "        async function convertToInteractive(key) {\n",
              "          const element = document.querySelector('#df-df549661-d920-411a-a119-a8d50b3a3216');\n",
              "          const dataTable =\n",
              "            await google.colab.kernel.invokeFunction('convertToInteractive',\n",
              "                                                     [key], {});\n",
              "          if (!dataTable) return;\n",
              "\n",
              "          const docLinkHtml = 'Like what you see? Visit the ' +\n",
              "            '<a target=\"_blank\" href=https://colab.research.google.com/notebooks/data_table.ipynb>data table notebook</a>'\n",
              "            + ' to learn more about interactive tables.';\n",
              "          element.innerHTML = '';\n",
              "          dataTable['output_type'] = 'display_data';\n",
              "          await google.colab.output.renderOutput(dataTable, element);\n",
              "          const docLink = document.createElement('div');\n",
              "          docLink.innerHTML = docLinkHtml;\n",
              "          element.appendChild(docLink);\n",
              "        }\n",
              "      </script>\n",
              "    </div>\n",
              "  </div>\n",
              "  "
            ]
          },
          "metadata": {},
          "execution_count": 21
        }
      ]
    },
    {
      "cell_type": "code",
      "source": [
        "#convert dataframe to csv file\n",
        "dataframe.to_csv('yellowpage.csv',index=False)"
      ],
      "metadata": {
        "id": "ZME0KTIj5Xmf"
      },
      "execution_count": 22,
      "outputs": []
    },
    {
      "cell_type": "code",
      "source": [
        "#intall bit.io python SDK\n",
        "!pip install bitdotio"
      ],
      "metadata": {
        "id": "2lkwB8255YcB"
      },
      "execution_count": null,
      "outputs": []
    },
    {
      "cell_type": "code",
      "source": [
        "import bitdotio"
      ],
      "metadata": {
        "id": "XBKjwxqBnChL"
      },
      "execution_count": null,
      "outputs": []
    },
    {
      "cell_type": "code",
      "source": [
        "b = bitdotio.bitdotio('api_key')#api key was remove due to privacy"
      ],
      "metadata": {
        "id": "j4aZAIwxr1US"
      },
      "execution_count": null,
      "outputs": []
    },
    {
      "cell_type": "code",
      "source": [
        "#query string\n",
        "query_string = \"\"\"\n",
        "                CREATE TABLE yellowpage (\n",
        "                  office_name Varchar,\n",
        "                  category Varchar,\n",
        "                  address Varchar,\n",
        "                  general_loc Varchar,\n",
        "                  telephone_num Varchar,\n",
        "                  website Varchar\n",
        "                )\n",
        "\"\"\""
      ],
      "metadata": {
        "id": "u6Es1oMywSGa"
      },
      "execution_count": null,
      "outputs": []
    },
    {
      "cell_type": "code",
      "source": [
        "#create table \n",
        "with b.get_connection('nathanpaulbustamante123/DBNPUB') as conn:\n",
        "  cursor = conn.cursor()\n",
        "  cursor.execute(query_string)"
      ],
      "metadata": {
        "id": "4p-PLJbTzlQq"
      },
      "execution_count": null,
      "outputs": []
    },
    {
      "cell_type": "code",
      "source": [
        "copy_table = f\"\"\"\n",
        "              Copy yellowpage \n",
        "              From STDIN \n",
        "              With CSV Header Delimiter as ',';\n",
        "\"\"\""
      ],
      "metadata": {
        "id": "bFmd2XZw2nJg"
      },
      "execution_count": null,
      "outputs": []
    },
    {
      "cell_type": "code",
      "source": [
        "#copying yellowpage.csv file to database\n",
        "with open('yellowpage.csv','r') as f:\n",
        "  with b.get_connection('nathanpaulbustamante123/DBNPUB') as conn:\n",
        "    cursor = conn.cursor()\n",
        "    cursor.copy_expert(sql=copy_table,file=f)"
      ],
      "metadata": {
        "id": "4KqZMLT21ebg"
      },
      "execution_count": null,
      "outputs": []
    }
  ]
}