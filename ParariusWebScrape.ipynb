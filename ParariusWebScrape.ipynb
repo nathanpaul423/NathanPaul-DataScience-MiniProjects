{
  "nbformat": 4,
  "nbformat_minor": 0,
  "metadata": {
    "colab": {
      "provenance": [],
      "collapsed_sections": [],
      "authorship_tag": "ABX9TyPjIu7ncrrDu+GosLKBNhIl",
      "include_colab_link": true
    },
    "kernelspec": {
      "name": "python3",
      "display_name": "Python 3"
    },
    "language_info": {
      "name": "python"
    }
  },
  "cells": [
    {
      "cell_type": "markdown",
      "metadata": {
        "id": "view-in-github",
        "colab_type": "text"
      },
      "source": [
        "<a href=\"https://colab.research.google.com/github/nathanpaul423/NathanPaul-DataScience-Project/blob/main/ParariusWebScrape.ipynb\" target=\"_parent\"><img src=\"https://colab.research.google.com/assets/colab-badge.svg\" alt=\"Open In Colab\"/></a>"
      ]
    },
    {
      "cell_type": "code",
      "execution_count": 1,
      "metadata": {
        "id": "tzfKmb5bGFLr"
      },
      "outputs": [],
      "source": [
        "from bs4 import BeautifulSoup\n",
        "from csv import writer\n",
        "import requests"
      ]
    },
    {
      "cell_type": "code",
      "source": [
        "#default variables\n",
        "loc = 'rotterdam'\n",
        "page_num = 1"
      ],
      "metadata": {
        "id": "bp_EM04OC3Dv"
      },
      "execution_count": 3,
      "outputs": []
    },
    {
      "cell_type": "code",
      "source": [
        "\n",
        "url = f'https://www.pararius.com/apartments/{loc}' #Pages"
      ],
      "metadata": {
        "id": "jNtwGDoGGuag"
      },
      "execution_count": 4,
      "outputs": []
    },
    {
      "cell_type": "code",
      "source": [
        "page = requests.get(url)"
      ],
      "metadata": {
        "id": "We3rVWCjG6Q6"
      },
      "execution_count": 5,
      "outputs": []
    },
    {
      "cell_type": "code",
      "source": [
        "soup = BeautifulSoup(page.content, 'html.parser')"
      ],
      "metadata": {
        "id": "sR8nyR7pG8yW"
      },
      "execution_count": 6,
      "outputs": []
    },
    {
      "cell_type": "code",
      "source": [
        "#finds the pages of the search\n",
        "def page_finder():\n",
        "  soup = BeautifulSoup(page.content, 'html.parser')\n",
        "  page = soup.find_all('li',class_='pagination__item')\n",
        "  \n",
        "  pages = []\n",
        "\n",
        "  #remove unwanted breaks '\\n'\n",
        "  for i in page:\n",
        "    pages.append(i.text.replace('\\n',''))\n",
        "  \n",
        "  #only numeric values are retain\n",
        "  for i in pages:\n",
        "    if i.isalpha():\n",
        "      pages.remove(i)\n",
        "\n",
        "  #remove '...' from website\n",
        "  pages.remove('...')\n",
        "\n",
        "  #convert string to integers\n",
        "  pages = [int(x) for x in pages]\n",
        "  \n",
        "  return pages\n"
      ],
      "metadata": {
        "id": "CQFkB1VLE6i_"
      },
      "execution_count": null,
      "outputs": []
    },
    {
      "cell_type": "code",
      "source": [
        "#finds the highest page number\n",
        "def max_page(x):\n",
        "  return max(x)"
      ],
      "metadata": {
        "id": "PkKpEvemE8kc"
      },
      "execution_count": null,
      "outputs": []
    },
    {
      "cell_type": "code",
      "source": [
        "#compiles dataset\n",
        "def data():\n",
        "  with open('housing.csv','w',encoding='utf8',newline='') as f:\n",
        "    \n",
        "    thewriter = writer(f)\n",
        "    header = ['title','location','price','area']\n",
        "    thewriter.writerow(header)\n",
        "\n",
        "    for x in range(1,max_page(page_finder())):\n",
        "      url = f'https://www.pararius.com/apartments/{loc}/page-{x}'\n",
        "      soup = BeautifulSoup(page.content, 'html.parser')\n",
        "      lists = soup.find_all('section', class_='listing-search-item')\n",
        "\n",
        "      for i in lists:\n",
        "        title = i.find('a',class_='listing-search-item__link--title').text.replace('\\n','')\n",
        "        location = i.find('div',class_='listing-search-item__sub-title').text.replace('\\n','')\n",
        "        price = i.find('div',class_='listing-search-item__price').text.replace('\\n','')\n",
        "        area = i.find('li',class_='illustrated-features__item--surface-area').text.replace('\\n','')\n",
        "\n",
        "        info = [title, location, price,area]\n",
        "        thewriter.writerow(info)"
      ],
      "metadata": {
        "id": "93eg3LTZuAnC"
      },
      "execution_count": 17,
      "outputs": []
    },
    {
      "cell_type": "code",
      "source": [
        "data()"
      ],
      "metadata": {
        "id": "QGXKlsYyOWdC"
      },
      "execution_count": 19,
      "outputs": []
    }
  ]
}