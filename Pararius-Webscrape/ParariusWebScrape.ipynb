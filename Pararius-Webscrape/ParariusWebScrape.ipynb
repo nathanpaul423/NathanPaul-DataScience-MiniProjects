{
  "nbformat": 4,
  "nbformat_minor": 0,
  "metadata": {
    "colab": {
      "provenance": [],
      "collapsed_sections": [],
      "authorship_tag": "ABX9TyN4mSUi7XBp0iWqFLrLA7gV",
      "include_colab_link": true
    },
    "kernelspec": {
      "name": "python3",
      "display_name": "Python 3"
    },
    "language_info": {
      "name": "python"
    }
  },
  "cells": [
    {
      "cell_type": "markdown",
      "metadata": {
        "id": "view-in-github",
        "colab_type": "text"
      },
      "source": [
        "<a href=\"https://colab.research.google.com/github/nathanpaul423/NathanPaul-DataScience-MiniProjects/blob/main/ParariusWebScrape.ipynb\" target=\"_parent\"><img src=\"https://colab.research.google.com/assets/colab-badge.svg\" alt=\"Open In Colab\"/></a>"
      ]
    },
    {
      "cell_type": "code",
      "execution_count": 1,
      "metadata": {
        "id": "tzfKmb5bGFLr"
      },
      "outputs": [],
      "source": [
        "from bs4 import BeautifulSoup"
      ]
    },
    {
      "cell_type": "code",
      "source": [
        "import requests"
      ],
      "metadata": {
        "id": "WrrtC15pGpC7"
      },
      "execution_count": 2,
      "outputs": []
    },
    {
      "cell_type": "code",
      "source": [
        "url ='https://www.pararius.com/apartments/amsterdam'"
      ],
      "metadata": {
        "id": "jNtwGDoGGuag"
      },
      "execution_count": 3,
      "outputs": []
    },
    {
      "cell_type": "code",
      "source": [
        "page = requests.get(url)"
      ],
      "metadata": {
        "id": "We3rVWCjG6Q6"
      },
      "execution_count": 4,
      "outputs": []
    },
    {
      "cell_type": "code",
      "source": [
        "soup = BeautifulSoup(page.content, 'html.parser')"
      ],
      "metadata": {
        "id": "sR8nyR7pG8yW"
      },
      "execution_count": 5,
      "outputs": []
    },
    {
      "cell_type": "code",
      "source": [
        "lists = soup.find_all('section', class_='listing-search-item')"
      ],
      "metadata": {
        "id": "UWfab8olHC1q"
      },
      "execution_count": 6,
      "outputs": []
    },
    {
      "cell_type": "code",
      "source": [
        "type(lists)"
      ],
      "metadata": {
        "colab": {
          "base_uri": "https://localhost:8080/"
        },
        "id": "5bMDzTo7cw4Q",
        "outputId": "083e83aa-278a-48b6-db1d-10d357d2feb7"
      },
      "execution_count": 7,
      "outputs": [
        {
          "output_type": "execute_result",
          "data": {
            "text/plain": [
              "bs4.element.ResultSet"
            ]
          },
          "metadata": {},
          "execution_count": 7
        }
      ]
    },
    {
      "cell_type": "code",
      "source": [
        "for i in lists:\n",
        "  title = i.find('a',class_='listing-search-item__link--title').text.replace('\\n','')\n",
        "  location = i.find('div',class_='listing-search-item__sub-title').text.replace('\\n','')\n",
        "  price = i.find('div',class_='listing-search-item__price').text.replace('\\n','')\n",
        "  area = i.find('li',class_='illustrated-features__item--surface-area').text.replace('\\n','')\n",
        "\n",
        "  info = [title, location, price,area]"
      ],
      "metadata": {
        "id": "rNCkvT3-I7H7"
      },
      "execution_count": 8,
      "outputs": []
    },
    {
      "cell_type": "code",
      "source": [
        "info"
      ],
      "metadata": {
        "colab": {
          "base_uri": "https://localhost:8080/"
        },
        "id": "eyLUavDguAM7",
        "outputId": "14bd956c-1d33-459d-c927-b2083a40748e"
      },
      "execution_count": 9,
      "outputs": [
        {
          "output_type": "execute_result",
          "data": {
            "text/plain": [
              "['                        Apartment Haarlemmerweg 49 2                            ',\n",
              " '            1051 KP Amsterdam (Staatsliedenbuurt)        ',\n",
              " '                €1,800 per month            ',\n",
              " '54 m²']"
            ]
          },
          "metadata": {},
          "execution_count": 9
        }
      ]
    },
    {
      "cell_type": "code",
      "source": [
        "from csv import writer"
      ],
      "metadata": {
        "id": "93eg3LTZuAnC"
      },
      "execution_count": 10,
      "outputs": []
    },
    {
      "cell_type": "code",
      "source": [
        "with open('housing.csv','w',encoding='utf8',newline='') as f:\n",
        "  thewriter = writer(f)\n",
        "  header = ['title','location','price','area']\n",
        "  thewriter.writerow(header)\n",
        "  for i in lists:\n",
        "    title = i.find('a',class_='listing-search-item__link--title').text.replace('\\n','')\n",
        "    location = i.find('div',class_='listing-search-item__sub-title').text.replace('\\n','')\n",
        "    price = i.find('div',class_='listing-search-item__price').text.replace('\\n','')\n",
        "    area = i.find('li',class_='illustrated-features__item--surface-area').text.replace('\\n','')\n",
        "\n",
        "    info = [title, location, price,area]\n",
        "    thewriter.writerow(info)"
      ],
      "metadata": {
        "id": "WrrOXOMg6Vkf"
      },
      "execution_count": 12,
      "outputs": []
    },
    {
      "cell_type": "code",
      "source": [
        "def page_finder():\n",
        "  page = soup.find_all('li',class_='pagination__item')\n",
        "  pages = []\n",
        "\n",
        "  #remove unwanted breaks '\\n'\n",
        "  for i in page:\n",
        "    pages.append(i.text.replace('\\n',''))\n",
        "  \n",
        "  #only numeric values are retain\n",
        "  for i in pages:\n",
        "    if i.isalpha():\n",
        "      pages.remove(i)\n",
        "\n",
        "  #remove '...' from website\n",
        "  pages.remove('...')\n",
        "\n",
        "  #convert string to integers\n",
        "  pages = [int(x) for x in pages]\n",
        "  \n",
        "  return pages\n"
      ],
      "metadata": {
        "id": "Gn3kunYw9_yu"
      },
      "execution_count": 34,
      "outputs": []
    },
    {
      "cell_type": "code",
      "source": [
        "page_finder()"
      ],
      "metadata": {
        "colab": {
          "base_uri": "https://localhost:8080/"
        },
        "id": "7TlrUqFb5Ndf",
        "outputId": "65484339-afaf-477b-98fb-0c29709c182f"
      },
      "execution_count": 35,
      "outputs": [
        {
          "output_type": "execute_result",
          "data": {
            "text/plain": [
              "[1, 2, 3, 4, 5, 22]"
            ]
          },
          "metadata": {},
          "execution_count": 35
        }
      ]
    },
    {
      "cell_type": "code",
      "source": [
        "def max_page(x):\n",
        "  return max(x)"
      ],
      "metadata": {
        "id": "PNGUiS8h-kGU"
      },
      "execution_count": 36,
      "outputs": []
    },
    {
      "cell_type": "code",
      "source": [
        "max_page(page_finder())"
      ],
      "metadata": {
        "colab": {
          "base_uri": "https://localhost:8080/"
        },
        "id": "VfvqHfV5-wdi",
        "outputId": "6998b3aa-ee60-4034-b340-58382fd28182"
      },
      "execution_count": 37,
      "outputs": [
        {
          "output_type": "execute_result",
          "data": {
            "text/plain": [
              "22"
            ]
          },
          "metadata": {},
          "execution_count": 37
        }
      ]
    },
    {
      "cell_type": "code",
      "source": [],
      "metadata": {
        "id": "dAmmLiH8-zIx"
      },
      "execution_count": null,
      "outputs": []
    }
  ]
}